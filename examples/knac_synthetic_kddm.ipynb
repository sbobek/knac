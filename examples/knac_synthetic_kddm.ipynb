{
 "cells": [
  {
   "cell_type": "code",
   "execution_count": 1,
   "metadata": {},
   "outputs": [],
   "source": [
    "%load_ext autoreload\n",
    "%autoreload 2\n",
    "import sys\n",
    "sys.path.append(\"../\")"
   ]
  },
  {
   "cell_type": "code",
   "execution_count": 2,
   "metadata": {},
   "outputs": [],
   "source": [
    "import pandas as pd\n",
    "import xgboost as xgb\n",
    "from sklearn.model_selection import train_test_split\n",
    "import numpy as np\n",
    "from matplotlib import pyplot as plt\n",
    "from anchor import utils\n",
    "from anchor import anchor_tabular\n",
    "from knac import KNAC\n",
    "from knac_helpers import caption_clusters, find_centers\n",
    "import matplotlib.patches as patches\n",
    "import matplotlib as mlp"
   ]
  },
  {
   "cell_type": "code",
   "execution_count": 3,
   "metadata": {},
   "outputs": [],
   "source": [
    "import seaborn as sns"
   ]
  },
  {
   "cell_type": "code",
   "execution_count": 4,
   "metadata": {},
   "outputs": [],
   "source": [
    "def plot_roc(model, dataset, features, target, saveas=None):\n",
    "    from itertools import cycle\n",
    "\n",
    "    from sklearn import svm, datasets\n",
    "    from sklearn.metrics import roc_curve,auc\n",
    "    from sklearn.model_selection import train_test_split\n",
    "    from sklearn.preprocessing import label_binarize\n",
    "    from sklearn.multiclass import OneVsRestClassifier\n",
    "    from scipy import interp\n",
    "    \n",
    "    n_classes = len(np.unique(dataset[target]))\n",
    "    \n",
    "    if hasattr(model ,'decision_function'):\n",
    "        y_score = model.decision_function(dataset[features])\n",
    "    else:\n",
    "        if n_classes < 3:\n",
    "            y_score = model.predict_proba(dataset[features])[::,1]\n",
    "        else:\n",
    "            y_score = model.predict_proba(dataset[features])\n",
    "    y = label_binarize(dataset[target], classes=np.unique(dataset[target]))\n",
    "\n",
    "\n",
    "    # Compute ROC curve and ROC area for each class\n",
    "    fpr = dict()\n",
    "    tpr = dict()\n",
    "    roc_auc = dict()\n",
    "    for i in range(n_classes):\n",
    "        if n_classes > 2:\n",
    "            fpr[i], tpr[i], _ = roc_curve(y[:, i], y_score[:, i])\n",
    "        else:\n",
    "            fpr[i], tpr[i], _ = roc_curve(dataset[target], y_score)\n",
    "        roc_auc[i] = auc(fpr[i], tpr[i])\n",
    "\n",
    "    # Compute micro-average ROC curve and ROC area\n",
    "    if n_classes > 2:\n",
    "        fpr[\"micro\"], tpr[\"micro\"], _ = roc_curve(y.ravel(), y_score.ravel())\n",
    "    else:\n",
    "        fpr[\"micro\"], tpr[\"micro\"], _ = roc_curve(dataset[target], y_score)\n",
    "    roc_auc[\"micro\"] = auc(fpr[\"micro\"], tpr[\"micro\"])\n",
    "\n",
    "    # First aggregate all false positive rates\n",
    "    all_fpr = np.unique(np.concatenate([fpr[i] for i in range(n_classes)]))\n",
    "\n",
    "    # Then interpolate all ROC curves at this points\n",
    "    mean_tpr = np.zeros_like(all_fpr)\n",
    "    for i in range(n_classes):\n",
    "        mean_tpr += interp(all_fpr, fpr[i], tpr[i])\n",
    "\n",
    "    # Finally average it and compute AUC\n",
    "    mean_tpr /= n_classes\n",
    "\n",
    "    fpr[\"macro\"] = all_fpr\n",
    "    tpr[\"macro\"] = mean_tpr\n",
    "    roc_auc[\"macro\"] = auc(fpr[\"macro\"], tpr[\"macro\"])\n",
    "\n",
    "    # Plot all ROC curves\n",
    "    lw = 2\n",
    "\n",
    "    fig=plt.figure(figsize=(12,9))\n",
    "    plt.plot(fpr[\"micro\"], tpr[\"micro\"],\n",
    "           label='micro-average ROC curve (area = {0:0.2f})'\n",
    "                 ''.format(roc_auc[\"micro\"]),\n",
    "           color='deeppink', linestyle=':', linewidth=4)\n",
    "\n",
    "    plt.plot(fpr[\"macro\"], tpr[\"macro\"],\n",
    "           label='macro-average ROC curve (area = {0:0.2f})'\n",
    "                 ''.format(roc_auc[\"macro\"]),\n",
    "           color='navy', linestyle=':', linewidth=4)\n",
    "\n",
    "    colors = cycle(['aqua', 'darkorange', 'cornflowerblue', 'gold', 'khaki', 'red', 'violet','purple'])\n",
    "    for i, color in zip(range(n_classes), colors):\n",
    "          plt.plot(fpr[i], tpr[i], color=color, lw=lw,\n",
    "               label='ROC curve of class {0} (area = {1:0.2f})'\n",
    "               ''.format(i, roc_auc[i]))\n",
    "\n",
    "    plt.plot([0, 1], [0, 1], 'k--', lw=lw)\n",
    "    plt.xlim([0.0, 1.0])\n",
    "    plt.ylim([0.0, 1.05])\n",
    "    plt.xlabel('False Positive Rate')\n",
    "    plt.ylabel('True Positive Rate')\n",
    "    plt.title('ROC analysis')\n",
    "    plt.legend(loc=\"lower right\")\n",
    "    plt.show()\n",
    "    if saveas is not None:\n",
    "        fig.savefig(saveas)"
   ]
  },
  {
   "cell_type": "code",
   "execution_count": 5,
   "metadata": {},
   "outputs": [],
   "source": [
    "from sklearn.datasets import make_blobs, make_classification, make_circles\n",
    "from matplotlib import pyplot as plt\n",
    "from sklearn.cluster import KMeans"
   ]
  },
  {
   "cell_type": "code",
   "execution_count": 6,
   "metadata": {},
   "outputs": [],
   "source": [
    "random_state = 170"
   ]
  },
  {
   "cell_type": "markdown",
   "metadata": {},
   "source": [
    "# KDDM exeamples"
   ]
  },
  {
   "cell_type": "code",
   "execution_count": 7,
   "metadata": {},
   "outputs": [
    {
     "data": {
      "text/plain": [
       "<knac.knac.KNAC at 0x7f5b865b6730>"
      ]
     },
     "execution_count": 7,
     "metadata": {},
     "output_type": "execute_result"
    }
   ],
   "source": [
    "X1, Y1, centers1 = make_blobs(n_samples=300, n_features=2, cluster_std=1.4, centers=3, random_state=random_state, return_centers=True)\n",
    "\n",
    "clusterer1 = KMeans(n_clusters=4, random_state=random_state)\n",
    "E1 = clusterer1.fit_predict(X1)\n",
    "\n",
    "XX=pd.DataFrame({'x1':X1[:,0],'x2':X1[:,1],'E':E1,'C':Y1})\n",
    "df1 = XX.pivot_table(index='E',columns='C',values='x1',aggfunc='count').fillna(0) #prepareDf2(E1, Y1)\n",
    "\n",
    "knac1 = KNAC()\n",
    "knac1.fit(df1)"
   ]
  },
  {
   "cell_type": "code",
   "execution_count": 8,
   "metadata": {},
   "outputs": [
    {
     "data": {
      "text/plain": [
       "<knac.knac.KNAC at 0x7f5b86454370>"
      ]
     },
     "execution_count": 8,
     "metadata": {},
     "output_type": "execute_result"
    }
   ],
   "source": [
    "X2, Y2, centers2 = make_blobs(n_samples=300, n_features=2, cluster_std=1.2, centers=3, random_state=random_state, return_centers=True)\n",
    "\n",
    "clusterer2 = KMeans(n_clusters=2, random_state=random_state)\n",
    "E2 = clusterer2.fit_predict(X2)\n",
    "\n",
    "XX2=pd.DataFrame({'x1':X2[:,0],'x2':X2[:,1],'E':E2,'C':Y2})\n",
    "df2 = XX2.pivot_table(index='E',columns='C',values='x1',aggfunc='count').fillna(0) #prepareDf2(E2, Y2)\n",
    "knac2 = KNAC()\n",
    "knac2.fit(df2)"
   ]
  },
  {
   "cell_type": "code",
   "execution_count": 9,
   "metadata": {},
   "outputs": [
    {
     "data": {
      "text/plain": [
       "(2.0, 0.0)"
      ]
     },
     "execution_count": 9,
     "metadata": {},
     "output_type": "execute_result"
    },
    {
     "data": {
      "image/png": "[encoded data removed]",
      "text/plain": [
       "<Figure size 864x504 with 8 Axes>"
      ]
     },
     "metadata": {
      "needs_background": "light"
     },
     "output_type": "display_data"
    }
   ],
   "source": [
    "fig,axs = plt.subplots(2,3, figsize=(12,7))\n",
    "sns.set(font_scale=1)\n",
    "\n",
    "#merge\n",
    "sns.heatmap(knac1.H_conf_n, annot=True, cmap='viridis',fmt='.3f',ax=axs[1,2])\n",
    "axs[1,0].scatter(X1[:,0],X1[:,1], c=E1, cmap='viridis')\n",
    "axs[1,1].scatter(X1[:,0],X1[:,1], c=Y1, cmap='viridis')\n",
    "axs[0,0].set(title='Expert clustering')\n",
    "axs[0,1].set(title='Automated clustering')\n",
    "axs[0,2].set(title='$H_{split}$ and $H_{merge}$')\n",
    "axs[1,2].set_ylim([knac1.H_conf_n.shape[0], 0]) # source: https://datascience.stackexchange.com/a/67741\n",
    "\n",
    "rect = patches.Rectangle((-7.5,-8.5),5.5,6.5,angle=70,ec='c', fc=\"None\", ls='--', linewidth=2, clip_on=False)\n",
    "axs[1,0].add_patch(rect)\n",
    "caption_clusters(axs[1,0], find_centers(X1, E1))\n",
    "caption_clusters(axs[1,1], centers1)\n",
    "\n",
    "#split\n",
    "sns.heatmap(knac2.H_conf2, annot=True, cmap='viridis',fmt='.3f',ax=axs[0,2])\n",
    "axs[0,0].scatter(X2[:,0],X2[:,1], c=E2, cmap='viridis')\n",
    "axs[0,1].scatter(X2[:,0],X2[:,1], c=Y2, cmap='viridis')\n",
    "rect = patches.Rectangle((-7,-3),12,6,angle=0,ec='c', fc=\"None\", ls='--', linewidth=2, clip_on=False)\n",
    "axs[0,0].add_patch(rect)\n",
    "caption_clusters(axs[0,0], find_centers(X2, E2))\n",
    "caption_clusters(axs[0,1], centers2)\n",
    "axs[0,2].set_ylim([knac2.H_conf2.shape[0], 0]) # source: https://datascience.stackexchange.com/a/67741"
   ]
  },
  {
   "cell_type": "code",
   "execution_count": 10,
   "metadata": {},
   "outputs": [],
   "source": [
    "fig.savefig('synthds-kddm.png')"
   ]
  },
  {
   "cell_type": "code",
   "execution_count": 11,
   "metadata": {},
   "outputs": [
    {
     "data": {
      "text/plain": [
       "E\n",
       "1    [(1, 2), 0.8692500320357587]\n",
       "Name: split, dtype: object"
      ]
     },
     "execution_count": 11,
     "metadata": {},
     "output_type": "execute_result"
    }
   ],
   "source": [
    "knac2.splits(threshold_override=0.6, \n",
    "            silhouette_metric={\n",
    "               'weight': 0.1, \n",
    "               'data': X1, \n",
    "               'labels_automatic': Y1, \n",
    "               'labels_expert': E1\n",
    "            })"
   ]
  },
  {
   "cell_type": "code",
   "execution_count": 12,
   "metadata": {},
   "outputs": [
    {
     "data": {
      "text/html": [
       "<div>\n",
       "<style scoped>\n",
       "    .dataframe tbody tr th:only-of-type {\n",
       "        vertical-align: middle;\n",
       "    }\n",
       "\n",
       "    .dataframe tbody tr th {\n",
       "        vertical-align: top;\n",
       "    }\n",
       "\n",
       "    .dataframe thead th {\n",
       "        text-align: right;\n",
       "    }\n",
       "</style>\n",
       "<table border=\"1\" class=\"dataframe\">\n",
       "  <thead>\n",
       "    <tr style=\"text-align: right;\">\n",
       "      <th></th>\n",
       "      <th>C1</th>\n",
       "      <th>C2</th>\n",
       "      <th>similarity</th>\n",
       "    </tr>\n",
       "  </thead>\n",
       "  <tbody>\n",
       "    <tr>\n",
       "      <th>1</th>\n",
       "      <td>0</td>\n",
       "      <td>3</td>\n",
       "      <td>0.987731</td>\n",
       "    </tr>\n",
       "  </tbody>\n",
       "</table>\n",
       "</div>"
      ],
      "text/plain": [
       "   C1  C2  similarity\n",
       "1   0   3    0.987731"
      ]
     },
     "execution_count": 12,
     "metadata": {},
     "output_type": "execute_result"
    }
   ],
   "source": [
    "knac1.merges(clusters_linkage_metric={\n",
    "                'weight': 0.2,\n",
    "                'metric': 'single_link',\n",
    "                'data': X1, \n",
    "                'labels_expert': E1          \n",
    "            })"
   ]
  },
  {
   "cell_type": "markdown",
   "metadata": {},
   "source": [
    "## Explain splits\n",
    "  * We explain differences between two clusters with complex model, and Anchor\n",
    "  * We explain splits by building surogate decision tree on the subset containing only these splited data\n"
   ]
  },
  {
   "cell_type": "markdown",
   "metadata": {},
   "source": [
    "### Explanation based on complex model and anchor"
   ]
  },
  {
   "cell_type": "code",
   "execution_count": 13,
   "metadata": {},
   "outputs": [],
   "source": [
    "features=['x1','x2']\n",
    "target='C'"
   ]
  },
  {
   "cell_type": "code",
   "execution_count": 14,
   "metadata": {},
   "outputs": [
    {
     "data": {
      "text/plain": [
       "E\n",
       "1    [(1, 2), 0.916606227946124]\n",
       "Name: split, dtype: object"
      ]
     },
     "execution_count": 14,
     "metadata": {},
     "output_type": "execute_result"
    }
   ],
   "source": [
    "knac2.splits()"
   ]
  },
  {
   "cell_type": "markdown",
   "metadata": {},
   "source": [
    "### Train classifier on the full data on automated discovered labeling as target"
   ]
  },
  {
   "cell_type": "code",
   "execution_count": 15,
   "metadata": {},
   "outputs": [],
   "source": [
    "model = xgb.XGBClassifier()"
   ]
  },
  {
   "cell_type": "code",
   "execution_count": 16,
   "metadata": {},
   "outputs": [
    {
     "data": {
      "text/plain": [
       "LabelEncoder()"
      ]
     },
     "execution_count": 16,
     "metadata": {},
     "output_type": "execute_result"
    }
   ],
   "source": [
    "from sklearn.preprocessing import LabelEncoder\n",
    "le = LabelEncoder()\n",
    "le.fit(XX2[target])"
   ]
  },
  {
   "cell_type": "code",
   "execution_count": 17,
   "metadata": {},
   "outputs": [
    {
     "name": "stderr",
     "output_type": "stream",
     "text": [
      "/home/sbk/anaconda3/envs/knac/lib/python3.8/site-packages/xgboost/sklearn.py:1146: UserWarning: The use of label encoder in XGBClassifier is deprecated and will be removed in a future release. To remove this warning, do the following: 1) Pass option use_label_encoder=False when constructing XGBClassifier object; and 2) Encode your labels (y) as integers starting with 0, i.e. 0, 1, 2, ..., [num_class - 1].\n",
      "  warnings.warn(label_encoder_deprecation_msg, UserWarning)\n"
     ]
    },
    {
     "name": "stdout",
     "output_type": "stream",
     "text": [
      "[22:04:28] WARNING: ../src/learner.cc:1095: Starting in XGBoost 1.3.0, the default evaluation metric used with the objective 'multi:softprob' was changed from 'merror' to 'mlogloss'. Explicitly set eval_metric if you'd like to restore the old behavior.\n"
     ]
    },
    {
     "data": {
      "text/plain": [
       "XGBClassifier(base_score=0.5, booster='gbtree', colsample_bylevel=1,\n",
       "              colsample_bynode=1, colsample_bytree=1, gamma=0, gpu_id=-1,\n",
       "              importance_type='gain', interaction_constraints='',\n",
       "              learning_rate=0.300000012, max_delta_step=0, max_depth=6,\n",
       "              min_child_weight=1, missing=nan, monotone_constraints='()',\n",
       "              n_estimators=100, n_jobs=12, num_parallel_tree=1,\n",
       "              objective='multi:softprob', random_state=0, reg_alpha=0,\n",
       "              reg_lambda=1, scale_pos_weight=None, subsample=1,\n",
       "              tree_method='exact', validate_parameters=1, verbosity=None)"
      ]
     },
     "execution_count": 17,
     "metadata": {},
     "output_type": "execute_result"
    }
   ],
   "source": [
    "model.fit(XX2[features].values,XX2[target])#le.transform(XX2[target]))"
   ]
  },
  {
   "cell_type": "code",
   "execution_count": 18,
   "metadata": {},
   "outputs": [],
   "source": [
    "ds = XX2[XX2['E']==1]"
   ]
  },
  {
   "cell_type": "code",
   "execution_count": 19,
   "metadata": {},
   "outputs": [],
   "source": [
    "centers_anchor = ds.groupby('C').mean()"
   ]
  },
  {
   "cell_type": "code",
   "execution_count": 20,
   "metadata": {},
   "outputs": [
    {
     "data": {
      "text/html": [
       "<div>\n",
       "<style scoped>\n",
       "    .dataframe tbody tr th:only-of-type {\n",
       "        vertical-align: middle;\n",
       "    }\n",
       "\n",
       "    .dataframe tbody tr th {\n",
       "        vertical-align: top;\n",
       "    }\n",
       "\n",
       "    .dataframe thead th {\n",
       "        text-align: right;\n",
       "    }\n",
       "</style>\n",
       "<table border=\"1\" class=\"dataframe\">\n",
       "  <thead>\n",
       "    <tr style=\"text-align: right;\">\n",
       "      <th></th>\n",
       "      <th>x1</th>\n",
       "      <th>x2</th>\n",
       "      <th>E</th>\n",
       "    </tr>\n",
       "    <tr>\n",
       "      <th>C</th>\n",
       "      <th></th>\n",
       "      <th></th>\n",
       "      <th></th>\n",
       "    </tr>\n",
       "  </thead>\n",
       "  <tbody>\n",
       "    <tr>\n",
       "      <th>1</th>\n",
       "      <td>-4.261654</td>\n",
       "      <td>0.194842</td>\n",
       "      <td>1</td>\n",
       "    </tr>\n",
       "    <tr>\n",
       "      <th>2</th>\n",
       "      <td>2.037782</td>\n",
       "      <td>0.575308</td>\n",
       "      <td>1</td>\n",
       "    </tr>\n",
       "  </tbody>\n",
       "</table>\n",
       "</div>"
      ],
      "text/plain": [
       "         x1        x2  E\n",
       "C                       \n",
       "1 -4.261654  0.194842  1\n",
       "2  2.037782  0.575308  1"
      ]
     },
     "execution_count": 20,
     "metadata": {},
     "output_type": "execute_result"
    }
   ],
   "source": [
    "centers_anchor"
   ]
  },
  {
   "cell_type": "code",
   "execution_count": 21,
   "metadata": {},
   "outputs": [],
   "source": [
    "explainerx = anchor_tabular.AnchorTabularExplainer(\n",
    "    ds.C.to_list(),\n",
    "    feature_names = centers_anchor[features].columns,\n",
    "    #train_data=ds[ds['Cluster'].isin([0,5])][features].values,\n",
    "    train_data = ds[features].values)"
   ]
  },
  {
   "cell_type": "code",
   "execution_count": 22,
   "metadata": {},
   "outputs": [
    {
     "name": "stderr",
     "output_type": "stream",
     "text": [
      "/home/sbk/anaconda3/envs/knac/lib/python3.8/site-packages/xgboost/data.py:112: UserWarning: Use subset (sliced data) of np.ndarray is not recommended because it will generate extra copies and increase memory consumption\n",
      "  warnings.warn(\n"
     ]
    },
    {
     "data": {
      "text/plain": [
       "1"
      ]
     },
     "execution_count": 22,
     "metadata": {},
     "output_type": "execute_result"
    }
   ],
   "source": [
    "idx = 1\n",
    "model.predict(centers_anchor[features].loc[idx].values.reshape(1,-1))[0]"
   ]
  },
  {
   "cell_type": "code",
   "execution_count": 23,
   "metadata": {},
   "outputs": [
    {
     "name": "stdout",
     "output_type": "stream",
     "text": [
      "Prediction:  1\n"
     ]
    }
   ],
   "source": [
    "idx = 1\n",
    "np.random.seed(1)\n",
    "print('Prediction: ',model.predict(centers_anchor[features].loc[idx].values.reshape(1,-1))[0])\n",
    "exp = explainerx.explain_instance(centers_anchor[features].loc[idx].values, model.predict, threshold=0.85)"
   ]
  },
  {
   "cell_type": "code",
   "execution_count": 24,
   "metadata": {},
   "outputs": [
    {
     "name": "stdout",
     "output_type": "stream",
     "text": [
      "Anchor: x1 <= -0.30\n",
      "Precision: 0.99\n",
      "Coverage: 0.51\n"
     ]
    }
   ],
   "source": [
    "print('Anchor: %s' % (' AND '.join(exp.names())))\n",
    "print('Precision: %.2f' % exp.precision())\n",
    "print('Coverage: %.2f' % exp.coverage())"
   ]
  },
  {
   "cell_type": "code",
   "execution_count": 25,
   "metadata": {},
   "outputs": [
    {
     "name": "stdout",
     "output_type": "stream",
     "text": [
      "Prediction:  2\n"
     ]
    }
   ],
   "source": [
    "idx = 2 # this is basically cluster 2\n",
    "np.random.seed(1)\n",
    "print('Prediction: ', model.predict(centers_anchor[features].loc[idx].values.reshape(1,-1))[0])\n",
    "exp = explainerx.explain_instance(centers_anchor[features].loc[idx].values, model.predict, threshold=0.95)"
   ]
  },
  {
   "cell_type": "code",
   "execution_count": 26,
   "metadata": {},
   "outputs": [
    {
     "name": "stdout",
     "output_type": "stream",
     "text": [
      "Anchor: x1 > -0.30\n",
      "Precision: 1.00\n",
      "Coverage: 0.49\n"
     ]
    }
   ],
   "source": [
    "print('Anchor: %s' % (' AND '.join(exp.names())))\n",
    "print('Precision: %.2f' % exp.precision())\n",
    "print('Coverage: %.2f' % exp.coverage())"
   ]
  },
  {
   "cell_type": "markdown",
   "metadata": {},
   "source": [
    "## Explain with local surogate model\n",
    "  * Build local model that uses only a portion of data with intersection of expert clusters and clusters suggested for mergining.\n",
    "  * Two approaches: \n",
    "    * Builld local surogate model with minimal depth (decision trunk)\n",
    "    * Build full tree, and explain it with Anchor"
   ]
  },
  {
   "cell_type": "code",
   "execution_count": 60,
   "metadata": {},
   "outputs": [
    {
     "data": {
      "image/svg+xml": [
       "<svg xmlns=\"http://www.w3.org/2000/svg\" xmlns:xlink=\"http://www.w3.org/1999/xlink\" width=\"280pt\" height=\"195pt\" viewBox=\"0.00 0.00 279.50 195.00\">\n",
       "<g id=\"graph0\" class=\"graph\" transform=\"scale(1 1) rotate(0) translate(4 191)\">\n",
       "<title>Tree</title>\n",
       "<polygon fill=\"white\" stroke=\"transparent\" points=\"-4,4 -4,-191 275.5,-191 275.5,4 -4,4\"/>\n",
       "<!-- 0 -->\n",
       "<g id=\"node1\" class=\"node\">\n",
       "<title>0</title>\n",
       "<polygon fill=\"#f5fafe\" stroke=\"black\" points=\"203,-187 63,-187 63,-104 203,-104 203,-187\"/>\n",
       "<text text-anchor=\"middle\" x=\"133\" y=\"-171.8\" font-family=\"Times,serif\" font-size=\"14.00\">x1 &lt;= -0.903</text>\n",
       "<text text-anchor=\"middle\" x=\"133\" y=\"-156.8\" font-family=\"Times,serif\" font-size=\"14.00\">gini = 0.5</text>\n",
       "<text text-anchor=\"middle\" x=\"133\" y=\"-141.8\" font-family=\"Times,serif\" font-size=\"14.00\">samples = 195</text>\n",
       "<text text-anchor=\"middle\" x=\"133\" y=\"-126.8\" font-family=\"Times,serif\" font-size=\"14.00\">value = [95, 100]</text>\n",
       "<text text-anchor=\"middle\" x=\"133\" y=\"-111.8\" font-family=\"Times,serif\" font-size=\"14.00\">class = 2</text>\n",
       "</g>\n",
       "<!-- 1 -->\n",
       "<g id=\"node2\" class=\"node\">\n",
       "<title>1</title>\n",
       "<polygon fill=\"#e58139\" stroke=\"black\" points=\"122,-68 0,-68 0,0 122,0 122,-68\"/>\n",
       "<text text-anchor=\"middle\" x=\"61\" y=\"-52.8\" font-family=\"Times,serif\" font-size=\"14.00\">gini = 0.0</text>\n",
       "<text text-anchor=\"middle\" x=\"61\" y=\"-37.8\" font-family=\"Times,serif\" font-size=\"14.00\">samples = 95</text>\n",
       "<text text-anchor=\"middle\" x=\"61\" y=\"-22.8\" font-family=\"Times,serif\" font-size=\"14.00\">value = [95, 0]</text>\n",
       "<text text-anchor=\"middle\" x=\"61\" y=\"-7.8\" font-family=\"Times,serif\" font-size=\"14.00\">class = 1</text>\n",
       "</g>\n",
       "<!-- 0&#45;&gt;1 -->\n",
       "<g id=\"edge1\" class=\"edge\">\n",
       "<title>0-&gt;1</title>\n",
       "<path fill=\"none\" stroke=\"black\" d=\"M106.19,-103.73C100.43,-94.97 94.34,-85.7 88.55,-76.91\"/>\n",
       "<polygon fill=\"black\" stroke=\"black\" points=\"91.31,-74.73 82.9,-68.3 85.47,-78.58 91.31,-74.73\"/>\n",
       "<text text-anchor=\"middle\" x=\"77.84\" y=\"-89.08\" font-family=\"Times,serif\" font-size=\"14.00\">True</text>\n",
       "</g>\n",
       "<!-- 2 -->\n",
       "<g id=\"node3\" class=\"node\">\n",
       "<title>2</title>\n",
       "<polygon fill=\"#399de5\" stroke=\"black\" points=\"271.5,-68 140.5,-68 140.5,0 271.5,0 271.5,-68\"/>\n",
       "<text text-anchor=\"middle\" x=\"206\" y=\"-52.8\" font-family=\"Times,serif\" font-size=\"14.00\">gini = 0.0</text>\n",
       "<text text-anchor=\"middle\" x=\"206\" y=\"-37.8\" font-family=\"Times,serif\" font-size=\"14.00\">samples = 100</text>\n",
       "<text text-anchor=\"middle\" x=\"206\" y=\"-22.8\" font-family=\"Times,serif\" font-size=\"14.00\">value = [0, 100]</text>\n",
       "<text text-anchor=\"middle\" x=\"206\" y=\"-7.8\" font-family=\"Times,serif\" font-size=\"14.00\">class = 2</text>\n",
       "</g>\n",
       "<!-- 0&#45;&gt;2 -->\n",
       "<g id=\"edge2\" class=\"edge\">\n",
       "<title>0-&gt;2</title>\n",
       "<path fill=\"none\" stroke=\"black\" d=\"M160.18,-103.73C166.08,-94.88 172.33,-85.51 178.25,-76.63\"/>\n",
       "<polygon fill=\"black\" stroke=\"black\" points=\"181.17,-78.56 183.8,-68.3 175.34,-74.68 181.17,-78.56\"/>\n",
       "<text text-anchor=\"middle\" x=\"188.7\" y=\"-89.11\" font-family=\"Times,serif\" font-size=\"14.00\">False</text>\n",
       "</g>\n",
       "</g>\n",
       "</svg>"
      ],
      "text/plain": [
       "<IPython.core.display.SVG object>"
      ]
     },
     "metadata": {},
     "output_type": "display_data"
    },
    {
     "data": {
      "text/plain": [
       "'trunk_split.dot'"
      ]
     },
     "execution_count": 60,
     "metadata": {},
     "output_type": "execute_result"
    }
   ],
   "source": [
    "from sklearn import tree\n",
    "from graphviz import Source\n",
    "from IPython.display import SVG\n",
    "\n",
    "ds_local = ds.copy()\n",
    "ds_local = ds_local[ds_local['C'].isin([1,2])]\n",
    "centers_anchor_local = ds_local.groupby('C').mean()\n",
    "\n",
    "estimator_local_simple = tree.DecisionTreeClassifier(max_depth=1)\n",
    "estimator_local = tree.DecisionTreeClassifier(max_depth=3)\n",
    "estimator_local.fit(ds_local[features], ds_local[target])\n",
    "estimator_local_simple.fit(ds_local[features], ds_local[target])\n",
    "\n",
    "\n",
    "graph = Source(tree.export_graphviz(estimator_local_simple, out_file=None\n",
    "   , feature_names=features, class_names=[str(f) for f in estimator_local_simple.classes_]\n",
    "   , filled = True))\n",
    "\n",
    "\n",
    "display(SVG(graph.pipe(format='svg')))\n",
    "graph.save('trunk_split.dot')"
   ]
  },
  {
   "cell_type": "code",
   "execution_count": 58,
   "metadata": {},
   "outputs": [
    {
     "data": {
      "text/plain": [
       "array([1, 2])"
      ]
     },
     "execution_count": 58,
     "metadata": {},
     "output_type": "execute_result"
    }
   ],
   "source": [
    "estimator_local_simple.classes_"
   ]
  },
  {
   "cell_type": "code",
   "execution_count": 56,
   "metadata": {},
   "outputs": [
    {
     "data": {
      "text/plain": [
       "['2', '1']"
      ]
     },
     "execution_count": 56,
     "metadata": {},
     "output_type": "execute_result"
    }
   ],
   "source": [
    "[str(f) for f in ds_local[target].unique()]"
   ]
  },
  {
   "cell_type": "markdown",
   "metadata": {},
   "source": [
    "## Simplity local surogate model with Anchor anyway"
   ]
  },
  {
   "cell_type": "code",
   "execution_count": 28,
   "metadata": {},
   "outputs": [],
   "source": [
    "explainer_local = anchor_tabular.AnchorTabularExplainer(\n",
    "    ds.C.to_list(),\n",
    "    feature_names = centers_anchor_local[features].columns,\n",
    "    train_data=ds_local[features].values,\n",
    "    categorical_names={})"
   ]
  },
  {
   "cell_type": "code",
   "execution_count": 29,
   "metadata": {},
   "outputs": [
    {
     "data": {
      "text/html": [
       "<div>\n",
       "<style scoped>\n",
       "    .dataframe tbody tr th:only-of-type {\n",
       "        vertical-align: middle;\n",
       "    }\n",
       "\n",
       "    .dataframe tbody tr th {\n",
       "        vertical-align: top;\n",
       "    }\n",
       "\n",
       "    .dataframe thead th {\n",
       "        text-align: right;\n",
       "    }\n",
       "</style>\n",
       "<table border=\"1\" class=\"dataframe\">\n",
       "  <thead>\n",
       "    <tr style=\"text-align: right;\">\n",
       "      <th></th>\n",
       "      <th>x1</th>\n",
       "      <th>x2</th>\n",
       "      <th>E</th>\n",
       "    </tr>\n",
       "    <tr>\n",
       "      <th>C</th>\n",
       "      <th></th>\n",
       "      <th></th>\n",
       "      <th></th>\n",
       "    </tr>\n",
       "  </thead>\n",
       "  <tbody>\n",
       "    <tr>\n",
       "      <th>1</th>\n",
       "      <td>-4.261654</td>\n",
       "      <td>0.194842</td>\n",
       "      <td>1</td>\n",
       "    </tr>\n",
       "    <tr>\n",
       "      <th>2</th>\n",
       "      <td>2.037782</td>\n",
       "      <td>0.575308</td>\n",
       "      <td>1</td>\n",
       "    </tr>\n",
       "  </tbody>\n",
       "</table>\n",
       "</div>"
      ],
      "text/plain": [
       "         x1        x2  E\n",
       "C                       \n",
       "1 -4.261654  0.194842  1\n",
       "2  2.037782  0.575308  1"
      ]
     },
     "execution_count": 29,
     "metadata": {},
     "output_type": "execute_result"
    }
   ],
   "source": [
    "centers_anchor_local"
   ]
  },
  {
   "cell_type": "code",
   "execution_count": 30,
   "metadata": {},
   "outputs": [
    {
     "name": "stdout",
     "output_type": "stream",
     "text": [
      "Prediction:  1\n"
     ]
    }
   ],
   "source": [
    "idx = 0\n",
    "np.random.seed(1)\n",
    "print('Prediction: ', estimator_local.predict(centers_anchor_local[features].iloc[idx].values.reshape(1,-1))[0])\n",
    "exp = explainer_local.explain_instance(centers_anchor_local[features].iloc[idx].values, estimator_local.predict, threshold=0.95)"
   ]
  },
  {
   "cell_type": "code",
   "execution_count": 31,
   "metadata": {},
   "outputs": [
    {
     "name": "stdout",
     "output_type": "stream",
     "text": [
      "Anchor: x1 <= -0.30\n",
      "Precision: 0.99\n",
      "Coverage: 0.51\n"
     ]
    }
   ],
   "source": [
    "print('Anchor: %s' % (' AND '.join(exp.names())))\n",
    "print('Precision: %.2f' % exp.precision())\n",
    "print('Coverage: %.2f' % exp.coverage())"
   ]
  },
  {
   "cell_type": "code",
   "execution_count": 32,
   "metadata": {},
   "outputs": [
    {
     "name": "stdout",
     "output_type": "stream",
     "text": [
      "Prediction:  2\n"
     ]
    }
   ],
   "source": [
    "idx = 2\n",
    "np.random.seed(1)\n",
    "print('Prediction: ', estimator_local.predict(centers_anchor_local[features].loc[idx].values.reshape(1,-1))[0])\n",
    "exp = explainer_local.explain_instance(centers_anchor_local[features].loc[idx].values, estimator_local.predict, threshold=0.95)"
   ]
  },
  {
   "cell_type": "code",
   "execution_count": 33,
   "metadata": {},
   "outputs": [
    {
     "name": "stdout",
     "output_type": "stream",
     "text": [
      "Anchor: x1 > -0.30\n",
      "Precision: 1.00\n",
      "Coverage: 0.49\n"
     ]
    }
   ],
   "source": [
    "print('Anchor: %s' % (' AND '.join(exp.names())))\n",
    "print('Precision: %.2f' % exp.precision())\n",
    "print('Coverage: %.2f' % exp.coverage())"
   ]
  },
  {
   "cell_type": "markdown",
   "metadata": {},
   "source": [
    "## Explain merges\n",
    "We explain merges in the sam eway as above, but now, decision are expert labels.\n",
    "We leave the decision if the condition for splitting is sufficient, or is it redundant, or artificial to an expert"
   ]
  },
  {
   "cell_type": "code",
   "execution_count": 34,
   "metadata": {},
   "outputs": [],
   "source": [
    "target_sur='E'"
   ]
  },
  {
   "cell_type": "code",
   "execution_count": 35,
   "metadata": {},
   "outputs": [
    {
     "data": {
      "text/html": [
       "<div>\n",
       "<style scoped>\n",
       "    .dataframe tbody tr th:only-of-type {\n",
       "        vertical-align: middle;\n",
       "    }\n",
       "\n",
       "    .dataframe tbody tr th {\n",
       "        vertical-align: top;\n",
       "    }\n",
       "\n",
       "    .dataframe thead th {\n",
       "        text-align: right;\n",
       "    }\n",
       "</style>\n",
       "<table border=\"1\" class=\"dataframe\">\n",
       "  <thead>\n",
       "    <tr style=\"text-align: right;\">\n",
       "      <th></th>\n",
       "      <th>C1</th>\n",
       "      <th>C2</th>\n",
       "      <th>similarity</th>\n",
       "    </tr>\n",
       "  </thead>\n",
       "  <tbody>\n",
       "    <tr>\n",
       "      <th>1</th>\n",
       "      <td>0</td>\n",
       "      <td>3</td>\n",
       "      <td>0.99846</td>\n",
       "    </tr>\n",
       "  </tbody>\n",
       "</table>\n",
       "</div>"
      ],
      "text/plain": [
       "   C1  C2  similarity\n",
       "1   0   3     0.99846"
      ]
     },
     "execution_count": 35,
     "metadata": {},
     "output_type": "execute_result"
    }
   ],
   "source": [
    "knac1.merges()"
   ]
  },
  {
   "cell_type": "code",
   "execution_count": 36,
   "metadata": {},
   "outputs": [
    {
     "data": {
      "text/plain": [
       "LabelEncoder()"
      ]
     },
     "execution_count": 36,
     "metadata": {},
     "output_type": "execute_result"
    }
   ],
   "source": [
    "le_exp = LabelEncoder()\n",
    "le_exp.fit(XX[target_sur])"
   ]
  },
  {
   "cell_type": "markdown",
   "metadata": {},
   "source": [
    "## Build full model and explain with Anchor"
   ]
  },
  {
   "cell_type": "code",
   "execution_count": 37,
   "metadata": {},
   "outputs": [],
   "source": [
    "model_exp = xgb.XGBClassifier()"
   ]
  },
  {
   "cell_type": "code",
   "execution_count": 38,
   "metadata": {},
   "outputs": [
    {
     "name": "stdout",
     "output_type": "stream",
     "text": [
      "[22:04:29] WARNING: ../src/learner.cc:1095: Starting in XGBoost 1.3.0, the default evaluation metric used with the objective 'multi:softprob' was changed from 'merror' to 'mlogloss'. Explicitly set eval_metric if you'd like to restore the old behavior.\n"
     ]
    },
    {
     "name": "stderr",
     "output_type": "stream",
     "text": [
      "/home/sbk/anaconda3/envs/knac/lib/python3.8/site-packages/xgboost/sklearn.py:1146: UserWarning: The use of label encoder in XGBClassifier is deprecated and will be removed in a future release. To remove this warning, do the following: 1) Pass option use_label_encoder=False when constructing XGBClassifier object; and 2) Encode your labels (y) as integers starting with 0, i.e. 0, 1, 2, ..., [num_class - 1].\n",
      "  warnings.warn(label_encoder_deprecation_msg, UserWarning)\n"
     ]
    },
    {
     "data": {
      "text/plain": [
       "XGBClassifier(base_score=0.5, booster='gbtree', colsample_bylevel=1,\n",
       "              colsample_bynode=1, colsample_bytree=1, gamma=0, gpu_id=-1,\n",
       "              importance_type='gain', interaction_constraints='',\n",
       "              learning_rate=0.300000012, max_delta_step=0, max_depth=6,\n",
       "              min_child_weight=1, missing=nan, monotone_constraints='()',\n",
       "              n_estimators=100, n_jobs=12, num_parallel_tree=1,\n",
       "              objective='multi:softprob', random_state=0, reg_alpha=0,\n",
       "              reg_lambda=1, scale_pos_weight=None, subsample=1,\n",
       "              tree_method='exact', validate_parameters=1, verbosity=None)"
      ]
     },
     "execution_count": 38,
     "metadata": {},
     "output_type": "execute_result"
    }
   ],
   "source": [
    "model_exp.fit(XX[features].values,XX[target_sur])#le_exp.transform(XXm[target_sur]))"
   ]
  },
  {
   "cell_type": "code",
   "execution_count": 39,
   "metadata": {},
   "outputs": [],
   "source": [
    "#Moving_right and Moving_left\n",
    "ds_exp = XX[XX['E'].isin([0,3])]"
   ]
  },
  {
   "cell_type": "code",
   "execution_count": 40,
   "metadata": {},
   "outputs": [],
   "source": [
    "centers_exp = ds_exp.groupby('E').mean()"
   ]
  },
  {
   "cell_type": "code",
   "execution_count": 41,
   "metadata": {},
   "outputs": [
    {
     "data": {
      "text/html": [
       "<div>\n",
       "<style scoped>\n",
       "    .dataframe tbody tr th:only-of-type {\n",
       "        vertical-align: middle;\n",
       "    }\n",
       "\n",
       "    .dataframe tbody tr th {\n",
       "        vertical-align: top;\n",
       "    }\n",
       "\n",
       "    .dataframe thead th {\n",
       "        text-align: right;\n",
       "    }\n",
       "</style>\n",
       "<table border=\"1\" class=\"dataframe\">\n",
       "  <thead>\n",
       "    <tr style=\"text-align: right;\">\n",
       "      <th></th>\n",
       "      <th>x1</th>\n",
       "      <th>x2</th>\n",
       "      <th>C</th>\n",
       "    </tr>\n",
       "    <tr>\n",
       "      <th>E</th>\n",
       "      <th></th>\n",
       "      <th></th>\n",
       "      <th></th>\n",
       "    </tr>\n",
       "  </thead>\n",
       "  <tbody>\n",
       "    <tr>\n",
       "      <th>0</th>\n",
       "      <td>-10.069885</td>\n",
       "      <td>-4.011605</td>\n",
       "      <td>0.052632</td>\n",
       "    </tr>\n",
       "    <tr>\n",
       "      <th>3</th>\n",
       "      <td>-8.663468</td>\n",
       "      <td>-6.173419</td>\n",
       "      <td>0.000000</td>\n",
       "    </tr>\n",
       "  </tbody>\n",
       "</table>\n",
       "</div>"
      ],
      "text/plain": [
       "          x1        x2         C\n",
       "E                               \n",
       "0 -10.069885 -4.011605  0.052632\n",
       "3  -8.663468 -6.173419  0.000000"
      ]
     },
     "execution_count": 41,
     "metadata": {},
     "output_type": "execute_result"
    }
   ],
   "source": [
    "centers_exp"
   ]
  },
  {
   "cell_type": "code",
   "execution_count": 42,
   "metadata": {},
   "outputs": [],
   "source": [
    "explainer_exp = anchor_tabular.AnchorTabularExplainer(\n",
    "    le_exp.classes_,\n",
    "    feature_names = centers_exp[features].columns,\n",
    "    train_data = XX[features].values,\n",
    "    categorical_names={})"
   ]
  },
  {
   "cell_type": "code",
   "execution_count": 43,
   "metadata": {},
   "outputs": [
    {
     "name": "stdout",
     "output_type": "stream",
     "text": [
      "Prediction:  0\n"
     ]
    },
    {
     "name": "stderr",
     "output_type": "stream",
     "text": [
      "/home/sbk/anaconda3/envs/knac/lib/python3.8/site-packages/xgboost/data.py:112: UserWarning: Use subset (sliced data) of np.ndarray is not recommended because it will generate extra copies and increase memory consumption\n",
      "  warnings.warn(\n"
     ]
    }
   ],
   "source": [
    "idx = 0\n",
    "np.random.seed(1)\n",
    "print('Prediction: ', model_exp.predict(centers_exp[features].loc[idx].values.reshape(1,-1))[0])\n",
    "exp = explainer_exp.explain_instance(centers_exp[features].loc[idx].values, model_exp.predict, threshold=0.95)"
   ]
  },
  {
   "cell_type": "code",
   "execution_count": 44,
   "metadata": {},
   "outputs": [
    {
     "name": "stdout",
     "output_type": "stream",
     "text": [
      "Anchor: x1 <= -8.20 AND x2 > -4.34\n",
      "Precision: 1.00\n",
      "Coverage: 0.07\n"
     ]
    }
   ],
   "source": [
    "print('Anchor: %s' % (' AND '.join(exp.names())))\n",
    "print('Precision: %.2f' % exp.precision())\n",
    "print('Coverage: %.2f' % exp.coverage())"
   ]
  },
  {
   "cell_type": "code",
   "execution_count": 45,
   "metadata": {},
   "outputs": [
    {
     "name": "stdout",
     "output_type": "stream",
     "text": [
      "Prediction:  3\n"
     ]
    }
   ],
   "source": [
    "idx = 3\n",
    "np.random.seed(1)\n",
    "print('Prediction: ', model_exp.predict(centers_exp[features].loc[idx].values.reshape(1,-1))[0])\n",
    "exp = explainer_exp.explain_instance(centers_exp[features].loc[idx].values, model_exp.predict, threshold=0.95)"
   ]
  },
  {
   "cell_type": "code",
   "execution_count": 46,
   "metadata": {},
   "outputs": [
    {
     "name": "stdout",
     "output_type": "stream",
     "text": [
      "Anchor: x2 <= -4.34\n",
      "Precision: 0.90\n",
      "Coverage: 0.25\n"
     ]
    }
   ],
   "source": [
    "print('Anchor: %s' % (' AND '.join(exp.names())))\n",
    "print('Precision: %.2f' % exp.precision())\n",
    "print('Coverage: %.2f' % exp.coverage())"
   ]
  },
  {
   "cell_type": "markdown",
   "metadata": {},
   "source": [
    "# Build local suroage model"
   ]
  },
  {
   "cell_type": "code",
   "execution_count": 62,
   "metadata": {
    "scrolled": true
   },
   "outputs": [
    {
     "data": {
      "image/svg+xml": [
       "<svg xmlns=\"http://www.w3.org/2000/svg\" xmlns:xlink=\"http://www.w3.org/1999/xlink\" width=\"280pt\" height=\"195pt\" viewBox=\"0.00 0.00 279.50 195.00\">\n",
       "<g id=\"graph0\" class=\"graph\" transform=\"scale(1 1) rotate(0) translate(4 191)\">\n",
       "<title>Tree</title>\n",
       "<polygon fill=\"white\" stroke=\"transparent\" points=\"-4,4 -4,-191 275.5,-191 275.5,4 -4,4\"/>\n",
       "<!-- 0 -->\n",
       "<g id=\"node1\" class=\"node\">\n",
       "<title>0</title>\n",
       "<polygon fill=\"#b0d8f5\" stroke=\"black\" points=\"198.5,-187 67.5,-187 67.5,-104 198.5,-104 198.5,-187\"/>\n",
       "<text text-anchor=\"middle\" x=\"133\" y=\"-171.8\" font-family=\"Times,serif\" font-size=\"14.00\">x2 &lt;= -5.065</text>\n",
       "<text text-anchor=\"middle\" x=\"133\" y=\"-156.8\" font-family=\"Times,serif\" font-size=\"14.00\">gini = 0.469</text>\n",
       "<text text-anchor=\"middle\" x=\"133\" y=\"-141.8\" font-family=\"Times,serif\" font-size=\"14.00\">samples = 101</text>\n",
       "<text text-anchor=\"middle\" x=\"133\" y=\"-126.8\" font-family=\"Times,serif\" font-size=\"14.00\">value = [38, 63]</text>\n",
       "<text text-anchor=\"middle\" x=\"133\" y=\"-111.8\" font-family=\"Times,serif\" font-size=\"14.00\">class = 3</text>\n",
       "</g>\n",
       "<!-- 1 -->\n",
       "<g id=\"node2\" class=\"node\">\n",
       "<title>1</title>\n",
       "<polygon fill=\"#44a3e6\" stroke=\"black\" points=\"122,-68 0,-68 0,0 122,0 122,-68\"/>\n",
       "<text text-anchor=\"middle\" x=\"61\" y=\"-52.8\" font-family=\"Times,serif\" font-size=\"14.00\">gini = 0.101</text>\n",
       "<text text-anchor=\"middle\" x=\"61\" y=\"-37.8\" font-family=\"Times,serif\" font-size=\"14.00\">samples = 56</text>\n",
       "<text text-anchor=\"middle\" x=\"61\" y=\"-22.8\" font-family=\"Times,serif\" font-size=\"14.00\">value = [3, 53]</text>\n",
       "<text text-anchor=\"middle\" x=\"61\" y=\"-7.8\" font-family=\"Times,serif\" font-size=\"14.00\">class = 3</text>\n",
       "</g>\n",
       "<!-- 0&#45;&gt;1 -->\n",
       "<g id=\"edge1\" class=\"edge\">\n",
       "<title>0-&gt;1</title>\n",
       "<path fill=\"none\" stroke=\"black\" d=\"M106.19,-103.73C100.43,-94.97 94.34,-85.7 88.55,-76.91\"/>\n",
       "<polygon fill=\"black\" stroke=\"black\" points=\"91.31,-74.73 82.9,-68.3 85.47,-78.58 91.31,-74.73\"/>\n",
       "<text text-anchor=\"middle\" x=\"77.84\" y=\"-89.08\" font-family=\"Times,serif\" font-size=\"14.00\">True</text>\n",
       "</g>\n",
       "<!-- 2 -->\n",
       "<g id=\"node3\" class=\"node\">\n",
       "<title>2</title>\n",
       "<polygon fill=\"#eca572\" stroke=\"black\" points=\"271.5,-68 140.5,-68 140.5,0 271.5,0 271.5,-68\"/>\n",
       "<text text-anchor=\"middle\" x=\"206\" y=\"-52.8\" font-family=\"Times,serif\" font-size=\"14.00\">gini = 0.346</text>\n",
       "<text text-anchor=\"middle\" x=\"206\" y=\"-37.8\" font-family=\"Times,serif\" font-size=\"14.00\">samples = 45</text>\n",
       "<text text-anchor=\"middle\" x=\"206\" y=\"-22.8\" font-family=\"Times,serif\" font-size=\"14.00\">value = [35, 10]</text>\n",
       "<text text-anchor=\"middle\" x=\"206\" y=\"-7.8\" font-family=\"Times,serif\" font-size=\"14.00\">class = 0</text>\n",
       "</g>\n",
       "<!-- 0&#45;&gt;2 -->\n",
       "<g id=\"edge2\" class=\"edge\">\n",
       "<title>0-&gt;2</title>\n",
       "<path fill=\"none\" stroke=\"black\" d=\"M160.18,-103.73C166.08,-94.88 172.33,-85.51 178.25,-76.63\"/>\n",
       "<polygon fill=\"black\" stroke=\"black\" points=\"181.17,-78.56 183.8,-68.3 175.34,-74.68 181.17,-78.56\"/>\n",
       "<text text-anchor=\"middle\" x=\"188.7\" y=\"-89.11\" font-family=\"Times,serif\" font-size=\"14.00\">False</text>\n",
       "</g>\n",
       "</g>\n",
       "</svg>"
      ],
      "text/plain": [
       "<IPython.core.display.SVG object>"
      ]
     },
     "metadata": {},
     "output_type": "display_data"
    },
    {
     "data": {
      "text/plain": [
       "'trunk_merge.dot'"
      ]
     },
     "execution_count": 62,
     "metadata": {},
     "output_type": "execute_result"
    }
   ],
   "source": [
    "from sklearn import tree\n",
    "from graphviz import Source\n",
    "from IPython.display import SVG\n",
    "\n",
    "centers_anchor_local = ds_exp.groupby('E').mean()\n",
    "\n",
    "estimator_local_simple_exp = tree.DecisionTreeClassifier(max_depth=1)\n",
    "estimator_local_exp = tree.DecisionTreeClassifier(max_depth=3)\n",
    "estimator_local_exp.fit(ds_exp[features], le_exp.transform(ds_exp[target_sur]))\n",
    "estimator_local_simple_exp.fit(ds_exp[features], le_exp.transform(ds_exp[target_sur]))\n",
    "\n",
    "\n",
    "graph = Source(tree.export_graphviz(estimator_local_simple_exp, out_file=None\n",
    "   , feature_names=features, class_names=[str(f) for f in estimator_local_simple_exp.classes_]\n",
    "   , filled = True))\n",
    "\n",
    "\n",
    "display(SVG(graph.pipe(format='svg')))\n",
    "graph.save('trunk_merge.dot')"
   ]
  },
  {
   "cell_type": "code",
   "execution_count": null,
   "metadata": {},
   "outputs": [],
   "source": []
  },
  {
   "cell_type": "code",
   "execution_count": null,
   "metadata": {},
   "outputs": [],
   "source": []
  },
  {
   "cell_type": "code",
   "execution_count": null,
   "metadata": {},
   "outputs": [],
   "source": []
  },
  {
   "cell_type": "code",
   "execution_count": null,
   "metadata": {},
   "outputs": [],
   "source": []
  },
  {
   "cell_type": "code",
   "execution_count": null,
   "metadata": {},
   "outputs": [],
   "source": []
  },
  {
   "cell_type": "code",
   "execution_count": null,
   "metadata": {},
   "outputs": [],
   "source": []
  },
  {
   "cell_type": "code",
   "execution_count": null,
   "metadata": {},
   "outputs": [],
   "source": []
  },
  {
   "cell_type": "code",
   "execution_count": null,
   "metadata": {},
   "outputs": [],
   "source": []
  },
  {
   "cell_type": "code",
   "execution_count": null,
   "metadata": {},
   "outputs": [],
   "source": []
  },
  {
   "cell_type": "code",
   "execution_count": null,
   "metadata": {},
   "outputs": [],
   "source": []
  },
  {
   "cell_type": "code",
   "execution_count": null,
   "metadata": {},
   "outputs": [],
   "source": []
  },
  {
   "cell_type": "code",
   "execution_count": null,
   "metadata": {},
   "outputs": [],
   "source": []
  },
  {
   "cell_type": "code",
   "execution_count": null,
   "metadata": {},
   "outputs": [],
   "source": []
  }
 ],
 "metadata": {
  "kernelspec": {
   "display_name": "Python 3",
   "language": "python",
   "name": "python3"
  },
  "language_info": {
   "codemirror_mode": {
    "name": "ipython",
    "version": 3
   },
   "file_extension": ".py",
   "mimetype": "text/x-python",
   "name": "python",
   "nbconvert_exporter": "python",
   "pygments_lexer": "ipython3",
   "version": "3.8.5"
  }
 },
 "nbformat": 4,
 "nbformat_minor": 4
}
