{
 "cells": [
  {
   "cell_type": "code",
   "execution_count": null,
   "metadata": {
    "pycharm": {
     "name": "#%%\n"
    }
   },
   "outputs": [],
   "source": [
    "%load_ext autoreload\n",
    "%autoreload 2\n",
    "import sys\n",
    "sys.path.append(\"../\")"
   ]
  },
  {
   "cell_type": "code",
   "execution_count": 2,
   "metadata": {
    "pycharm": {
     "name": "#%%\n"
    }
   },
   "outputs": [
    {
     "name": "stderr",
     "output_type": "stream",
     "text": [
      "/home/sbk/anaconda3/envs/knac/lib/python3.8/site-packages/xgboost/compat.py:31: FutureWarning: pandas.Int64Index is deprecated and will be removed from pandas in a future version. Use pandas.Index with the appropriate dtype instead.\n",
      "  from pandas import MultiIndex, Int64Index\n"
     ]
    }
   ],
   "source": [
    "import pandas as pd\n",
    "import xgboost as xgb\n",
    "from sklearn.model_selection import train_test_split\n",
    "import numpy as np\n",
    "from matplotlib import pyplot as plt\n",
    "from anchor import utils\n",
    "from anchor import anchor_tabular\n",
    "#from knac import KNAC\n",
    "from knac import KnacSplits, KnacMerges\n",
    "from knac_helpers import caption_clusters, find_centers,prepareDf2\n",
    "import matplotlib.patches as patches\n",
    "import matplotlib as mlp"
   ]
  },
  {
   "cell_type": "code",
   "execution_count": 3,
   "metadata": {
    "pycharm": {
     "name": "#%%\n"
    }
   },
   "outputs": [],
   "source": [
    "import seaborn as sns"
   ]
  },
  {
   "cell_type": "code",
   "execution_count": 4,
   "metadata": {
    "pycharm": {
     "name": "#%%\n"
    }
   },
   "outputs": [],
   "source": [
    "def plot_roc(model, dataset, features, target, saveas=None):\n",
    "    from itertools import cycle\n",
    "\n",
    "    from sklearn import svm, datasets\n",
    "    from sklearn.metrics import roc_curve,auc\n",
    "    from sklearn.model_selection import train_test_split\n",
    "    from sklearn.preprocessing import label_binarize\n",
    "    from sklearn.multiclass import OneVsRestClassifier\n",
    "    from scipy import interp\n",
    "    \n",
    "    n_classes = len(np.unique(dataset[target]))\n",
    "    \n",
    "    if hasattr(model ,'decision_function'):\n",
    "        y_score = model.decision_function(dataset[features])\n",
    "    else:\n",
    "        if n_classes < 3:\n",
    "            y_score = model.predict_proba(dataset[features])[::,1]\n",
    "        else:\n",
    "            y_score = model.predict_proba(dataset[features])\n",
    "    y = label_binarize(dataset[target], classes=np.unique(dataset[target]))\n",
    "\n",
    "\n",
    "    # Compute ROC curve and ROC area for each class\n",
    "    fpr = dict()\n",
    "    tpr = dict()\n",
    "    roc_auc = dict()\n",
    "    for i in range(n_classes):\n",
    "        if n_classes > 2:\n",
    "            fpr[i], tpr[i], _ = roc_curve(y[:, i], y_score[:, i])\n",
    "        else:\n",
    "            fpr[i], tpr[i], _ = roc_curve(dataset[target], y_score)\n",
    "        roc_auc[i] = auc(fpr[i], tpr[i])\n",
    "\n",
    "    # Compute micro-average ROC curve and ROC area\n",
    "    if n_classes > 2:\n",
    "        fpr[\"micro\"], tpr[\"micro\"], _ = roc_curve(y.ravel(), y_score.ravel())\n",
    "    else:\n",
    "        fpr[\"micro\"], tpr[\"micro\"], _ = roc_curve(dataset[target], y_score)\n",
    "    roc_auc[\"micro\"] = auc(fpr[\"micro\"], tpr[\"micro\"])\n",
    "\n",
    "    # First aggregate all false positive rates\n",
    "    all_fpr = np.unique(np.concatenate([fpr[i] for i in range(n_classes)]))\n",
    "\n",
    "    # Then interpolate all ROC curves at this points\n",
    "    mean_tpr = np.zeros_like(all_fpr)\n",
    "    for i in range(n_classes):\n",
    "        mean_tpr += interp(all_fpr, fpr[i], tpr[i])\n",
    "\n",
    "    # Finally average it and compute AUC\n",
    "    mean_tpr /= n_classes\n",
    "\n",
    "    fpr[\"macro\"] = all_fpr\n",
    "    tpr[\"macro\"] = mean_tpr\n",
    "    roc_auc[\"macro\"] = auc(fpr[\"macro\"], tpr[\"macro\"])\n",
    "\n",
    "    # Plot all ROC curves\n",
    "    lw = 2\n",
    "\n",
    "    fig=plt.figure(figsize=(12,9))\n",
    "    plt.plot(fpr[\"micro\"], tpr[\"micro\"],\n",
    "           label='micro-average ROC curve (area = {0:0.2f})'\n",
    "                 ''.format(roc_auc[\"micro\"]),\n",
    "           color='deeppink', linestyle=':', linewidth=4)\n",
    "\n",
    "    plt.plot(fpr[\"macro\"], tpr[\"macro\"],\n",
    "           label='macro-average ROC curve (area = {0:0.2f})'\n",
    "                 ''.format(roc_auc[\"macro\"]),\n",
    "           color='navy', linestyle=':', linewidth=4)\n",
    "\n",
    "    colors = cycle(['aqua', 'darkorange', 'cornflowerblue', 'gold', 'khaki', 'red', 'violet','purple'])\n",
    "    for i, color in zip(range(n_classes), colors):\n",
    "          plt.plot(fpr[i], tpr[i], color=color, lw=lw,\n",
    "               label='ROC curve of class {0} (area = {1:0.2f})'\n",
    "               ''.format(i, roc_auc[i]))\n",
    "\n",
    "    plt.plot([0, 1], [0, 1], 'k--', lw=lw)\n",
    "    plt.xlim([0.0, 1.0])\n",
    "    plt.ylim([0.0, 1.05])\n",
    "    plt.xlabel('False Positive Rate')\n",
    "    plt.ylabel('True Positive Rate')\n",
    "    plt.title('ROC analysis')\n",
    "    plt.legend(loc=\"lower right\")\n",
    "    plt.show()\n",
    "    if saveas is not None:\n",
    "        fig.savefig(saveas)"
   ]
  },
  {
   "cell_type": "code",
   "execution_count": 5,
   "metadata": {
    "pycharm": {
     "name": "#%%\n"
    }
   },
   "outputs": [],
   "source": [
    "from sklearn.datasets import make_blobs, make_classification, make_circles\n",
    "from matplotlib import pyplot as plt\n",
    "from sklearn.cluster import KMeans"
   ]
  },
  {
   "cell_type": "code",
   "execution_count": 6,
   "metadata": {
    "pycharm": {
     "name": "#%%\n"
    }
   },
   "outputs": [],
   "source": [
    "random_state = 170"
   ]
  },
  {
   "cell_type": "markdown",
   "metadata": {
    "pycharm": {
     "name": "#%% md\n"
    }
   },
   "source": [
    "# KDDM exeamples"
   ]
  },
  {
   "cell_type": "code",
   "execution_count": 7,
   "metadata": {
    "pycharm": {
     "name": "#%%\n"
    }
   },
   "outputs": [],
   "source": [
    "X1, Y1, centers1 = make_blobs(n_samples=300, n_features=2, cluster_std=1.4, centers=3, random_state=random_state, return_centers=True)\n",
    "\n",
    "clusterer1 = KMeans(n_clusters=4, random_state=random_state)\n",
    "E1 = clusterer1.fit_predict(X1)\n",
    "\n",
    "XX=pd.DataFrame({'x1':X1[:,0],'x2':X1[:,1],'E':E1,'C':Y1})\n",
    "\n",
    "df1 = XX.pivot_table(index='E',columns='C',values='x1',aggfunc='count').fillna(0) #prepareDf2(E1, Y1)\n",
    "\n",
    "knac1_merges = KnacMerges(confidence_threshold=0.9, # Assign value from  range: (0.0 ; 1.0)\n",
    "                    metric='centroids_link',    # Select one of the following options ['single_link', 'average_link', \n",
    "                                              #                                       'complete_link', 'centroids_link', 'wards_link']\n",
    "                    metric_weight=0.2)        # Assign value from  range: (0.0 ; 1.0)\n",
    "knac_merges_recoms=knac1_merges.fit_transform(df1,data=XX[['x1','x2']].values,labels_expert=XX['E'])"
   ]
  },
  {
   "cell_type": "code",
   "execution_count": 8,
   "metadata": {
    "pycharm": {
     "name": "#%%\n"
    }
   },
   "outputs": [],
   "source": [
    "X2, Y2, centers2 = make_blobs(n_samples=300, n_features=2, cluster_std=1.2, centers=3, random_state=random_state, return_centers=True)\n",
    "\n",
    "clusterer2 = KMeans(n_clusters=2, random_state=random_state)\n",
    "E2 = clusterer2.fit_predict(X2)\n",
    "\n",
    "XX2=pd.DataFrame({'x1':X2[:,0],'x2':X2[:,1],'E':E2,'C':Y2})\n",
    "df2 = XX2.pivot_table(index='E',columns='C',values='x1',aggfunc='count').fillna(0) #prepareDf2(E2, Y2)\n",
    "knac2_splits = KnacSplits(confidence_threshold=0.9, # Assign value from  range: (0.0 ; 1.0)\n",
    "    silhouette_weight=0.2)    # Assign value from  range: (0.0 ; 1.0)\n",
    "knac_splits_recoms = knac2_splits.fit_transform(df2,y=None, data=XX2, labels_automatic=XX2['C'].astype(str), labels_expert=XX2['E'])\n"
   ]
  },
  {
   "cell_type": "code",
   "execution_count": 9,
   "metadata": {
    "pycharm": {
     "name": "#%%\n"
    }
   },
   "outputs": [
    {
     "data": {
      "text/plain": [
       "(2.0, 0.0)"
      ]
     },
     "execution_count": 9,
     "metadata": {},
     "output_type": "execute_result"
    },
    {
     "data": {
      "image/png": "[encoded data removed]",
      "text/plain": [
       "<Figure size 864x504 with 8 Axes>"
      ]
     },
     "metadata": {
      "needs_background": "light"
     },
     "output_type": "display_data"
    }
   ],
   "source": [
    "fig,axs = plt.subplots(2,3, figsize=(12,7))\n",
    "sns.set(font_scale=1)\n",
    "\n",
    "#merge\n",
    "sns.heatmap(knac1_merges.H_conf_n, annot=True, cmap='viridis',fmt='.3f',ax=axs[1,2])\n",
    "axs[1,0].scatter(X1[:,0],X1[:,1], c=E1, cmap='viridis')\n",
    "axs[1,1].scatter(X1[:,0],X1[:,1], c=Y1, cmap='viridis')\n",
    "axs[0,0].set(title='Expert clustering')\n",
    "axs[0,1].set(title='Automated clustering')\n",
    "axs[0,2].set(title='$H_{split}$ and $H_{merge}$')\n",
    "axs[1,2].set_ylim([knac1_merges.H_conf_n.shape[0], 0]) # source: https://datascience.stackexchange.com/a/67741\n",
    "\n",
    "rect = patches.Rectangle((-7.5,-8.5),5.5,6.5,angle=70,ec='c', fc=\"None\", ls='--', linewidth=2, clip_on=False)\n",
    "axs[1,0].add_patch(rect)\n",
    "caption_clusters(axs[1,0], find_centers(X1, E1))\n",
    "caption_clusters(axs[1,1], centers1)\n",
    "\n",
    "#split\n",
    "sns.heatmap(knac2_splits.H_conf2, annot=True, cmap='viridis',fmt='.3f',ax=axs[0,2])\n",
    "axs[0,0].scatter(X2[:,0],X2[:,1], c=E2, cmap='viridis')\n",
    "axs[0,1].scatter(X2[:,0],X2[:,1], c=Y2, cmap='viridis')\n",
    "rect = patches.Rectangle((-7,-3),12,6,angle=0,ec='c', fc=\"None\", ls='--', linewidth=2, clip_on=False)\n",
    "axs[0,0].add_patch(rect)\n",
    "caption_clusters(axs[0,0], find_centers(X2, E2))\n",
    "caption_clusters(axs[0,1], centers2)\n",
    "axs[0,2].set_ylim([knac2_splits.H_conf2.shape[0], 0]) # source: https://datascience.stackexchange.com/a/67741"
   ]
  },
  {
   "cell_type": "code",
   "execution_count": 10,
   "metadata": {
    "pycharm": {
     "name": "#%%\n"
    }
   },
   "outputs": [],
   "source": [
    "fig.savefig('synthds-kddm.png')"
   ]
  },
  {
   "cell_type": "code",
   "execution_count": 11,
   "metadata": {
    "pycharm": {
     "name": "#%%\n"
    }
   },
   "outputs": [
    {
     "data": {
      "text/plain": [
       "E\n",
       "1    [(1, 2), 0.8332849823568992]\n",
       "Name: split, dtype: object"
      ]
     },
     "execution_count": 11,
     "metadata": {},
     "output_type": "execute_result"
    }
   ],
   "source": [
    "#Splits recommendations\n",
    "knac_splits_recoms"
   ]
  },
  {
   "cell_type": "code",
   "execution_count": 12,
   "metadata": {
    "pycharm": {
     "name": "#%%\n"
    }
   },
   "outputs": [
    {
     "data": {
      "text/html": [
       "<div>\n",
       "<style scoped>\n",
       "    .dataframe tbody tr th:only-of-type {\n",
       "        vertical-align: middle;\n",
       "    }\n",
       "\n",
       "    .dataframe tbody tr th {\n",
       "        vertical-align: top;\n",
       "    }\n",
       "\n",
       "    .dataframe thead th {\n",
       "        text-align: right;\n",
       "    }\n",
       "</style>\n",
       "<table border=\"1\" class=\"dataframe\">\n",
       "  <thead>\n",
       "    <tr style=\"text-align: right;\">\n",
       "      <th></th>\n",
       "      <th>C1</th>\n",
       "      <th>C2</th>\n",
       "      <th>similarity</th>\n",
       "    </tr>\n",
       "  </thead>\n",
       "  <tbody>\n",
       "    <tr>\n",
       "      <th>1</th>\n",
       "      <td>0</td>\n",
       "      <td>3</td>\n",
       "      <td>0.958983</td>\n",
       "    </tr>\n",
       "  </tbody>\n",
       "</table>\n",
       "</div>"
      ],
      "text/plain": [
       "   C1  C2  similarity\n",
       "1   0   3    0.958983"
      ]
     },
     "execution_count": 12,
     "metadata": {},
     "output_type": "execute_result"
    }
   ],
   "source": [
    "#merge recommendations\n",
    "knac_merges_recoms"
   ]
  },
  {
   "cell_type": "markdown",
   "metadata": {
    "pycharm": {
     "name": "#%% md\n"
    }
   },
   "source": [
    "## Explain splits\n",
    "  * We explain differences between two clusters with complex model, and Anchor\n",
    "  * We explain splits by building surogate decision tree on the subset containing only these splited data\n"
   ]
  },
  {
   "cell_type": "markdown",
   "metadata": {
    "pycharm": {
     "name": "#%% md\n"
    }
   },
   "source": [
    "### Explanation based on complex model and anchor"
   ]
  },
  {
   "cell_type": "code",
   "execution_count": 13,
   "metadata": {
    "pycharm": {
     "name": "#%%\n"
    }
   },
   "outputs": [],
   "source": [
    "features=['x1','x2']\n",
    "target='C'\n",
    "def get_rules(tree, feature_names, class_names):\n",
    "    from sklearn.tree import _tree\n",
    "    tree_ = tree.tree_\n",
    "    feature_name = [\n",
    "        feature_names[i] if i != _tree.TREE_UNDEFINED else \"undefined!\"\n",
    "        for i in tree_.feature\n",
    "    ]\n",
    "\n",
    "    paths = []\n",
    "    path = []\n",
    "    \n",
    "    def recurse(node, path, paths):\n",
    "        \n",
    "        if tree_.feature[node] != _tree.TREE_UNDEFINED:\n",
    "            name = feature_name[node]\n",
    "            threshold = tree_.threshold[node]\n",
    "            p1, p2 = list(path), list(path)\n",
    "            p1 += [f\"({name} <= {np.round(threshold, 3)})\"]\n",
    "            recurse(tree_.children_left[node], p1, paths)\n",
    "            p2 += [f\"({name} > {np.round(threshold, 3)})\"]\n",
    "            recurse(tree_.children_right[node], p2, paths)\n",
    "        else:\n",
    "            path += [(tree_.value[node], tree_.n_node_samples[node])]\n",
    "            paths += [path]\n",
    "            \n",
    "    recurse(0, path, paths)\n",
    "\n",
    "    # sort by samples count\n",
    "    samples_count = [p[-1][1] for p in paths]\n",
    "    ii = list(np.argsort(samples_count))\n",
    "    paths = [paths[i] for i in reversed(ii)]\n",
    "    \n",
    "    rules = []\n",
    "    for path in paths:\n",
    "        rule = \"if \"\n",
    "        \n",
    "        for p in path[:-1]:\n",
    "            if rule != \"if \":\n",
    "                rule += \" and \"\n",
    "            rule += str(p)\n",
    "        rule += \" then \"\n",
    "        if class_names is None:\n",
    "            rule += \"response: \"+str(np.round(path[-1][0][0][0],3))\n",
    "        else:\n",
    "            classes = path[-1][0][0]\n",
    "            l = np.argmax(classes)\n",
    "            rule += f\"class: {class_names[l]} (proba: {np.round(100.0*classes[l]/np.sum(classes),2)}%)\"\n",
    "        rule += f\" | based on {path[-1][1]:,} samples\"\n",
    "        rules += [rule]\n",
    "        \n",
    "    return rules\n",
    "\n",
    "def justify_splits_anchor(expert_to_split, split_recoms, data, features, target_automatic='C'):\n",
    "    model = xgb.XGBClassifier(use_label_encoder=False,eval_metric='mlogloss')\n",
    "    model.fit(data[features].values,data[target_automatic])\n",
    "    ds = data[data[target_automatic].isin(split_recoms)]\n",
    "    centers_anchor = ds.groupby(target_automatic).mean()\n",
    "    \n",
    "    explainerx = anchor_tabular.AnchorTabularExplainer(\n",
    "    ds.C.to_list(),\n",
    "    feature_names = centers_anchor[features].columns,\n",
    "\n",
    "    train_data = ds[features].values)\n",
    "    \n",
    "    \n",
    "    for idx in split_recoms:\n",
    "        exp = explainerx.explain_instance(centers_anchor[features].loc[idx].values, model.predict, threshold=0.85)\n",
    "        print(f'The rule for automatic cluster {idx}: %s' % (' AND '.join(exp.names())))\n",
    "        print('Precision: %.2f' % exp.precision())\n",
    "        print('Coverage: %.2f' % exp.coverage())\n",
    "        \n",
    "        \n",
    "def justify_splits_tree(expert_to_split, split_recoms, data, features, target_automatic='C'):\n",
    "    from sklearn import tree\n",
    "    from graphviz import Source\n",
    "    from IPython.display import SVG\n",
    "\n",
    "    ds_local = data.copy()\n",
    "    ds_local = ds_local[ds_local[target_automatic].isin(split_recoms)]\n",
    "    centers_anchor_local = ds_local.groupby(target_automatic).mean()\n",
    "\n",
    "    estimator_local_simple = tree.DecisionTreeClassifier(max_depth=1)\n",
    "    estimator_local_simple.fit(ds_local[features], ds_local[target_automatic])\n",
    "\n",
    "\n",
    "    graph = Source(tree.export_graphviz(estimator_local_simple, out_file=None\n",
    "       , feature_names=features, class_names=[str(f) for f in estimator_local_simple.classes_]\n",
    "       , filled = True))\n",
    "    \n",
    "    return get_rules(estimator_local_simple, feature_names=features, class_names=[str(cn) for cn in estimator_local_simple.classes_])\n",
    "\n",
    "\n",
    "    #display(SVG(graph.pipe(format='svg')))\n",
    "    "
   ]
  },
  {
   "cell_type": "code",
   "execution_count": 14,
   "metadata": {
    "pycharm": {
     "name": "#%%\n"
    }
   },
   "outputs": [
    {
     "data": {
      "text/plain": [
       "E\n",
       "1    [(1, 2), 0.8332849823568992]\n",
       "Name: split, dtype: object"
      ]
     },
     "execution_count": 14,
     "metadata": {},
     "output_type": "execute_result"
    }
   ],
   "source": [
    "knac_splits_recoms"
   ]
  },
  {
   "cell_type": "code",
   "execution_count": 15,
   "metadata": {
    "pycharm": {
     "name": "#%%\n"
    }
   },
   "outputs": [],
   "source": [
    "which_recom = 0\n",
    "\n",
    "split_recoms=list(knac_splits_recoms.iloc[which_recom][0])\n",
    "expert_to_split=knac_splits_recoms.index[which_recom]"
   ]
  },
  {
   "cell_type": "code",
   "execution_count": 16,
   "metadata": {
    "pycharm": {
     "name": "#%%\n"
    }
   },
   "outputs": [
    {
     "name": "stdout",
     "output_type": "stream",
     "text": [
      "The rule for automatic cluster 1: x1 <= -0.90\n",
      "Precision: 1.00\n",
      "Coverage: 0.50\n",
      "The rule for automatic cluster 2: x1 > -0.90\n",
      "Precision: 1.00\n",
      "Coverage: 0.50\n"
     ]
    },
    {
     "name": "stderr",
     "output_type": "stream",
     "text": [
      "/home/sbk/anaconda3/envs/knac/lib/python3.8/site-packages/xgboost/data.py:112: UserWarning: Use subset (sliced data) of np.ndarray is not recommended because it will generate extra copies and increase memory consumption\n",
      "  warnings.warn(\n",
      "/home/sbk/anaconda3/envs/knac/lib/python3.8/site-packages/xgboost/data.py:112: UserWarning: Use subset (sliced data) of np.ndarray is not recommended because it will generate extra copies and increase memory consumption\n",
      "  warnings.warn(\n"
     ]
    }
   ],
   "source": [
    "justify_splits_anchor(expert_to_split=expert_to_split, \n",
    "               split_recoms=split_recoms, \n",
    "               data=XX2, \n",
    "               features=features, \n",
    "               target_automatic='C')"
   ]
  },
  {
   "cell_type": "code",
   "execution_count": 17,
   "metadata": {
    "pycharm": {
     "name": "#%%\n"
    }
   },
   "outputs": [
    {
     "data": {
      "text/plain": [
       "['if (x1 > -0.903) then class: 2 (proba: 100.0%) | based on 100 samples',\n",
       " 'if (x1 <= -0.903) then class: 1 (proba: 100.0%) | based on 100 samples']"
      ]
     },
     "execution_count": 17,
     "metadata": {},
     "output_type": "execute_result"
    }
   ],
   "source": [
    "justify_splits_tree(expert_to_split=expert_to_split, \n",
    "               split_recoms=split_recoms, \n",
    "               data=XX2, \n",
    "               features=features, \n",
    "               target_automatic='C')"
   ]
  },
  {
   "cell_type": "markdown",
   "metadata": {
    "pycharm": {
     "name": "#%% md\n"
    }
   },
   "source": [
    "## Explain merges\n",
    "We explain merges in the sam eway as above, but now, decision are expert labels.\n",
    "We leave the decision if the condition for splitting is sufficient, or is it redundant, or artificial to an expert"
   ]
  },
  {
   "cell_type": "code",
   "execution_count": 18,
   "metadata": {
    "pycharm": {
     "name": "#%%\n"
    }
   },
   "outputs": [],
   "source": [
    "target_sur='E'"
   ]
  },
  {
   "cell_type": "code",
   "execution_count": 19,
   "metadata": {
    "pycharm": {
     "name": "#%%\n"
    }
   },
   "outputs": [
    {
     "data": {
      "text/html": [
       "<div>\n",
       "<style scoped>\n",
       "    .dataframe tbody tr th:only-of-type {\n",
       "        vertical-align: middle;\n",
       "    }\n",
       "\n",
       "    .dataframe tbody tr th {\n",
       "        vertical-align: top;\n",
       "    }\n",
       "\n",
       "    .dataframe thead th {\n",
       "        text-align: right;\n",
       "    }\n",
       "</style>\n",
       "<table border=\"1\" class=\"dataframe\">\n",
       "  <thead>\n",
       "    <tr style=\"text-align: right;\">\n",
       "      <th></th>\n",
       "      <th>C1</th>\n",
       "      <th>C2</th>\n",
       "      <th>similarity</th>\n",
       "    </tr>\n",
       "  </thead>\n",
       "  <tbody>\n",
       "    <tr>\n",
       "      <th>1</th>\n",
       "      <td>0</td>\n",
       "      <td>3</td>\n",
       "      <td>0.958983</td>\n",
       "    </tr>\n",
       "  </tbody>\n",
       "</table>\n",
       "</div>"
      ],
      "text/plain": [
       "   C1  C2  similarity\n",
       "1   0   3    0.958983"
      ]
     },
     "execution_count": 19,
     "metadata": {},
     "output_type": "execute_result"
    }
   ],
   "source": [
    "knac_merges_recoms"
   ]
  },
  {
   "cell_type": "code",
   "execution_count": 20,
   "metadata": {
    "pycharm": {
     "name": "#%%\n"
    }
   },
   "outputs": [],
   "source": [
    "which_recom = 0\n",
    "\n",
    "merge_recoms=list(knac_merges_recoms.iloc[which_recom, 0:2])"
   ]
  },
  {
   "cell_type": "code",
   "execution_count": 21,
   "metadata": {
    "pycharm": {
     "name": "#%%\n"
    }
   },
   "outputs": [],
   "source": [
    "def justify_merges_anchor(merge_recoms, data, features, target_expert='E'):\n",
    "    from sklearn.preprocessing import LabelEncoder\n",
    "    model_exp = xgb.XGBClassifier(use_label_encoder=False,eval_metric='mlogloss')\n",
    "    le_exp = LabelEncoder()\n",
    "    le_exp.fit(data[target_expert])\n",
    "    model_exp.fit(data[features].values,data[target_expert])\n",
    "    ds_exp = data[data[target_expert].isin(merge_recoms)]\n",
    "    centers_exp = ds_exp.groupby(target_expert).mean()\n",
    "    \n",
    "    explainer_exp = anchor_tabular.AnchorTabularExplainer(\n",
    "        le_exp.classes_,\n",
    "        feature_names = centers_exp[features].columns,\n",
    "        train_data = data[features].values,\n",
    "        categorical_names={})\n",
    "    \n",
    "    \n",
    "    for idx in merge_recoms:\n",
    "        exp = explainer_exp.explain_instance(centers_exp[features].loc[idx].values, model_exp.predict, threshold=0.85)\n",
    "        print(f'The rule for automatic cluster {idx}: %s' % (' AND '.join(exp.names())))\n",
    "        print('Precision: %.2f' % exp.precision())\n",
    "        print('Coverage: %.2f' % exp.coverage())"
   ]
  },
  {
   "cell_type": "code",
   "execution_count": 22,
   "metadata": {
    "pycharm": {
     "name": "#%%\n"
    }
   },
   "outputs": [
    {
     "name": "stdout",
     "output_type": "stream",
     "text": [
      "The rule for automatic cluster 0.0: x2 <= -4.34 AND x1 <= -4.40\n",
      "Precision: 0.78\n",
      "Coverage: 0.25\n",
      "The rule for automatic cluster 3.0: x1 <= -8.20 AND x2 > -4.34\n",
      "Precision: 1.00\n",
      "Coverage: 0.07\n"
     ]
    },
    {
     "name": "stderr",
     "output_type": "stream",
     "text": [
      "/home/sbk/anaconda3/envs/knac/lib/python3.8/site-packages/xgboost/data.py:112: UserWarning: Use subset (sliced data) of np.ndarray is not recommended because it will generate extra copies and increase memory consumption\n",
      "  warnings.warn(\n",
      "/home/sbk/anaconda3/envs/knac/lib/python3.8/site-packages/xgboost/data.py:112: UserWarning: Use subset (sliced data) of np.ndarray is not recommended because it will generate extra copies and increase memory consumption\n",
      "  warnings.warn(\n"
     ]
    }
   ],
   "source": [
    "justify_merges_anchor(merge_recoms=merge_recoms, data=XX, features=features, target_expert='E')"
   ]
  },
  {
   "cell_type": "code",
   "execution_count": 23,
   "metadata": {
    "pycharm": {
     "name": "#%%\n"
    }
   },
   "outputs": [],
   "source": [
    "def justify_merges_tree(merge_recoms, data, features, target_expert='E'):\n",
    "    from sklearn import tree\n",
    "    from graphviz import Source\n",
    "    from IPython.display import SVG\n",
    "    from sklearn.preprocessing import LabelEncoder\n",
    "\n",
    "    le_exp = LabelEncoder()\n",
    "    le_exp.fit(data[target_expert])\n",
    "    ds_exp = data[data[target_expert].isin(merge_recoms)]\n",
    "    centers_anchor_local = ds_exp.groupby(target_expert).mean()\n",
    "\n",
    "    estimator_local_simple_exp = tree.DecisionTreeClassifier(max_depth=1)\n",
    "    estimator_local_simple_exp.fit(ds_exp[features], le_exp.transform(ds_exp[target_expert]))\n",
    "\n",
    "\n",
    "    graph = Source(tree.export_graphviz(estimator_local_simple_exp, out_file=None\n",
    "       , feature_names=features, class_names=[str(f) for f in estimator_local_simple_exp.classes_]\n",
    "       , filled = True))\n",
    "\n",
    "    return get_rules(estimator_local_simple_exp, feature_names=features, class_names=[str(cn) for cn in estimator_local_simple_exp.classes_])\n",
    "    #display(SVG(graph.pipe(format='svg')))\n",
    "  "
   ]
  },
  {
   "cell_type": "code",
   "execution_count": 24,
   "metadata": {
    "pycharm": {
     "name": "#%%\n"
    }
   },
   "outputs": [
    {
     "data": {
      "text/plain": [
       "['if (x2 <= -5.065) then class: 0 (proba: 98.21%) | based on 56 samples',\n",
       " 'if (x2 > -5.065) then class: 3 (proba: 97.78%) | based on 45 samples']"
      ]
     },
     "execution_count": 24,
     "metadata": {},
     "output_type": "execute_result"
    }
   ],
   "source": [
    "justify_merges_tree(merge_recoms=merge_recoms, data=XX, features=features, target_expert='E')"
   ]
  },
  {
   "cell_type": "code",
   "execution_count": null,
   "metadata": {
    "pycharm": {
     "name": "#%%\n"
    }
   },
   "outputs": [],
   "source": []
  },
  {
   "cell_type": "code",
   "execution_count": null,
   "metadata": {
    "pycharm": {
     "name": "#%%\n"
    }
   },
   "outputs": [],
   "source": []
  },
  {
   "cell_type": "code",
   "execution_count": null,
   "metadata": {
    "pycharm": {
     "name": "#%%\n"
    }
   },
   "outputs": [],
   "source": []
  },
  {
   "cell_type": "code",
   "execution_count": null,
   "metadata": {
    "pycharm": {
     "name": "#%%\n"
    }
   },
   "outputs": [],
   "source": []
  }
 ],
 "metadata": {
  "kernelspec": {
   "display_name": "Python 3",
   "language": "python",
   "name": "python3"
  },
  "language_info": {
   "codemirror_mode": {
    "name": "ipython",
    "version": 3
   },
   "file_extension": ".py",
   "mimetype": "text/x-python",
   "name": "python",
   "nbconvert_exporter": "python",
   "pygments_lexer": "ipython3",
   "version": "3.8.5"
  }
 },
 "nbformat": 4,
 "nbformat_minor": 4
}
